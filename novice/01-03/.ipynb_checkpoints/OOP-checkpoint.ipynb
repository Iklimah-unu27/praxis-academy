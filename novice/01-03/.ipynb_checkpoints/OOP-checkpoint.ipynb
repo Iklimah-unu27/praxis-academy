{
 "cells": [
  {
   "cell_type": "markdown",
   "metadata": {},
   "source": [
    "### OOP ( Pemrograman Berorientasi Objek )"
   ]
  },
  {
   "cell_type": "markdown",
   "metadata": {},
   "source": [
    "Pemrograman berorientasi objek ( OOP ) adalah paradigma pemrograman yang didasarkan pada konsep objek yang dapat memuat data dan kode data dalam bentuk field dan kode dalam bentuk prosedur/metode. lebih mudahnya OOP adalah paradigma atau teknik pemrograman di mana semua hal dalam program dimodelkan seperti objek dalam dunia nyata, objek di dunia nyata memiliki ciri atau attribut dan juga aksi atau kelakuan.Fitur objek adalah prosedur \n",
    "objek itu sendiri dapat mengakses dan sering kali memodifikasi bidang datanya sendiri."
   ]
  },
  {
   "cell_type": "markdown",
   "metadata": {},
   "source": []
  }
 ],
 "metadata": {
  "kernelspec": {
   "display_name": "Python 3",
   "language": "python",
   "name": "python3"
  },
  "language_info": {
   "codemirror_mode": {
    "name": "ipython",
    "version": 3
   },
   "file_extension": ".py",
   "mimetype": "text/x-python",
   "name": "python",
   "nbconvert_exporter": "python",
   "pygments_lexer": "ipython3",
   "version": "3.8.5"
  }
 },
 "nbformat": 4,
 "nbformat_minor": 4
}

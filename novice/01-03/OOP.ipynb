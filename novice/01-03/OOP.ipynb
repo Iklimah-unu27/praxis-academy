{
 "cells": [
  {
   "cell_type": "markdown",
   "metadata": {},
   "source": [
    "### OOP ( Pemrograman Berorientasi Objek )"
   ]
  },
  {
   "cell_type": "markdown",
   "metadata": {},
   "source": [
    "Pemrograman berorientasi objek ( OOP ) adalah paradigma pemrograman yang didasarkan pada konsep objek yang dapat memuat data dan kode data dalam bentuk field dan kode dalam bentuk prosedur/metode. lebih mudahnya OOP adalah paradigma atau teknik pemrograman di mana semua hal dalam program dimodelkan seperti objek dalam dunia nyata, objek di dunia nyata memiliki ciri atau attribut dan juga aksi atau kelakuan.Fitur objek adalah prosedur \n",
    "objek itu sendiri dapat mengakses dan sering kali memodifikasi bidang datanya sendiri."
   ]
  },
  {
   "cell_type": "markdown",
   "metadata": {},
   "source": [
    "Bahasa pemrograman berorientasi objek (OOP) dibuat, seperti Simula, Smalltalk, C++, C #, Eiffel, PHP, dan Java. Dalam bahasa ini, data dan metode untuk memanipulasinya disimpan sebagai satu unit yang disebut objek. Salah satu fitur yang membedakan dari OOP yaitu satu-satunya cara bahwa objek lain atau pengguna akan dapat mengakses data melalui metode objek."
   ]
  },
  {
   "cell_type": "markdown",
   "metadata": {},
   "source": [
    "Semua unit dalam program bisa dianggap sebagai objek. Objek besar dibangun dari objek – objek yang lebih kecil. Objek yang satu berinteraksi dengan objek yang lain, sehingga semua menjadi sebuah kesatuan yang utuh. Python dari awal dibuat sudah mengadopsi OOP. Selain itu Python juga bisa menggunakan paradigma pemrograman lama yaitu pemrograman terstruktur. Oleh karena itu, Python disebut bersifat hibrid."
   ]
  },
  {
   "cell_type": "markdown",
   "metadata": {},
   "source": [
    "Berikut istilah yang berkaitan dengan tentang OOP:"
   ]
  },
  {
   "cell_type": "raw",
   "metadata": {},
   "source": [
    "    – Kelas adalah cetak biru atau prototipe dari objek dimana kita mendefinisikan atribut dari suatu objek. Atribut ini terdiri dari data member (variabel) dan fungsi (metode).\n",
    "    – Variabel kelas adalah variabel yang dishare atau dibagi oleh semua instance (turunan) dari kelas. Variabel kelas didefinisikan di dalam kelas, tapi di luar metode-metode yang ada dalam kelas tersebut.\n",
    "    – Data member adalah variabel yang menyimpan data yang berhubungan dengan kelas dan objeknya\n",
    "    – Overloading fungsi adalah fungsi yang memiliki nama yang sama di dalam kelas, tapi dengan jumlah dan tipe argumen yang berbeda sehingga dapat melakukan beberapa hal yang berbeda.\n",
    "    – Overloading operator adalah pembuatan beberapa fungsi atau kegunaan untuk suatu operator. Misalnya operator + dibuat tidak hanya untuk penjumlahan, tapi juga untuk fungsi lain. Variabel instansiasi – Variabel instansiasi adalah variabel yang didefinisikan di dalam suatu metode dan hanya menjadi milik dari instance kelas.\n",
    "    – Inheritansi adalah pewarisan karakteristik sebuah kelas ke kelas lain yang menjadi turunannya.\n",
    "    – Instance adalah istilah lain dari objek suatu kelas. Sebuah objek yang dibuat dari prototipe kelas Lingkaran misalnya disebut sebagai instance dari kelas tersebut.\n",
    "    – Instansiasi adalah pembuatan instance/objek dari suatu kelas Metode – Metode adalah fungsi yang didefinisikan di dalam suatu kelas\n",
    "    – Objek adalah instansiasi atau perwujudan dari sebuah kelas. Bila kelas adalah prototipenya, dan objek adalah barang jadinya"
   ]
  },
  {
   "cell_type": "markdown",
   "metadata": {},
   "source": []
  }
 ],
 "metadata": {
  "kernelspec": {
   "display_name": "Python 3",
   "language": "python",
   "name": "python3"
  },
  "language_info": {
   "codemirror_mode": {
    "name": "ipython",
    "version": 3
   },
   "file_extension": ".py",
   "mimetype": "text/x-python",
   "name": "python",
   "nbconvert_exporter": "python",
   "pygments_lexer": "ipython3",
   "version": "3.8.5"
  }
 },
 "nbformat": 4,
 "nbformat_minor": 4
}
